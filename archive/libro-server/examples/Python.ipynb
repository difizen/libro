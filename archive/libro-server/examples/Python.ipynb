{
 "cells": [
  {
   "cell_type": "markdown",
   "id": "89512388-9ade-44b3-9c8c-6af18144aaa1",
   "metadata": {
    "libroFormatter": "formatter-string"
   },
   "source": [
    "## Python LSP"
   ]
  },
  {
   "cell_type": "markdown",
   "id": "f341f8d8-45db-44a3-875d-336afce5f79c",
   "metadata": {
    "libroFormatter": "formatter-string"
   },
   "source": [
    "### Hover action"
   ]
  },
  {
   "cell_type": "code",
   "execution_count": 1,
   "id": "6ebaed42-7d0f-47b5-82cc-38b45d93f0ac",
   "metadata": {
    "libroFormatter": "formatter-string"
   },
   "outputs": [],
   "source": [
    "def square(x):\n",
    "    \"\"\"Can you see me?\"\"\"\n",
    "    return x*x"
   ]
  },
  {
   "cell_type": "markdown",
   "id": "6d09b272-aea0-481c-a710-b0e44cc11d07",
   "metadata": {
    "libroFormatter": "formatter-string"
   },
   "source": [
    "Hover over `square` and see an underline appear; press <kbd>Ctrl</kbd> to display tooltip with the docstring."
   ]
  },
  {
   "cell_type": "code",
   "execution_count": 2,
   "id": "fedb7424-84e6-4983-a256-793113b08a88",
   "metadata": {
    "libroFormatter": "formatter-string"
   },
   "outputs": [],
   "source": [
    "!dsdss\n",
    "\n",
    "\n",
    "result = square(2)\n",
    "\n",
    "result"
   ]
  },
  {
   "cell_type": "markdown",
   "id": "445042f2-b696-489f-90b5-93a284cf54ae",
   "metadata": {
    "libroFormatter": "formatter-string"
   },
   "source": [
    "### Inspections"
   ]
  },
  {
   "cell_type": "markdown",
   "id": "00c39ba0-f375-4a7c-aa70-6c3ed7fc8725",
   "metadata": {
    "libroFormatter": "formatter-string"
   },
   "source": [
    "This import is underlied as it should be placed at the top of the file; it has an orange underline as this is only a warning."
   ]
  },
  {
   "cell_type": "code",
   "execution_count": 3,
   "id": "9c3cf5ae-353f-4378-9f12-c7292ae97912",
   "metadata": {
    "libroFormatter": "formatter-string"
   },
   "outputs": [],
   "source": [
    "from statistics import mean"
   ]
  },
  {
   "cell_type": "markdown",
   "id": "6c8056eb-4ce8-4d65-9b7f-85d0899a6006",
   "metadata": {
    "libroFormatter": "formatter-string"
   },
   "source": [
    "You can also hover over `statistics` and `mean` (while holding <kbd>Ctrl</kbd>) to see the documentation of those."
   ]
  },
  {
   "cell_type": "code",
   "execution_count": 4,
   "id": "461a7a4e-f3f5-4083-abe2-51d340523020",
   "metadata": {
    "libroFormatter": "formatter-string"
   },
   "outputs": [
    {
     "ename": "NameError",
     "evalue": "name 'undefined_variable' is not defined",
     "output_type": "error",
     "traceback": [
      "\u001b[0;31m---------------------------------------------------------------------------\u001b[0m",
      "\u001b[0;31mNameError\u001b[0m                                 Traceback (most recent call last)",
      "\u001b[0;32m<ipython-input-4-4c6d5bf4bce5>\u001b[0m in \u001b[0;36m<module>\u001b[0;34m\u001b[0m\n\u001b[0;32m----> 1\u001b[0;31m \u001b[0mundefined_variable\u001b[0m\u001b[0;34m\u001b[0m\u001b[0;34m\u001b[0m\u001b[0m\n\u001b[0m",
      "\u001b[0;31mNameError\u001b[0m: name 'undefined_variable' is not defined"
     ]
    }
   ],
   "source": [
    "undefined_variable"
   ]
  },
  {
   "cell_type": "markdown",
   "id": "9efc46b7-9c2c-40b4-a225-015b12a15efc",
   "metadata": {
    "libroFormatter": "formatter-string"
   },
   "source": [
    "you will see red underline for an undefined variable (example above) or for an invalid syntax."
   ]
  },
  {
   "cell_type": "markdown",
   "id": "34925a10-7d66-4b47-83ea-ab78a0da940d",
   "metadata": {
    "libroFormatter": "formatter-string"
   },
   "source": [
    "Also, spurious whitespaces can be highlighted (if server supports such diagnostic):"
   ]
  },
  {
   "cell_type": "code",
   "execution_count": 5,
   "id": "ee473933-a1d8-4fe9-b679-39ed71f94cbd",
   "metadata": {
    "libroFormatter": "formatter-string"
   },
   "outputs": [],
   "source": [
    "class Dog:\n",
    "    \n",
    "    def bark(self):\n",
    "        print('🐕 woof woof')"
   ]
  },
  {
   "cell_type": "code",
   "execution_count": null,
   "id": "1e2becf6-bfa8-4a72-9184-d0fbf91c6c43",
   "metadata": {
    "libroFormatter": "formatter-string"
   },
   "outputs": [],
   "source": []
  },
  {
   "cell_type": "code",
   "execution_count": 6,
   "id": "0048a821-0ede-41fc-8834-5dad3f0f9fa7",
   "metadata": {
    "libroFormatter": "formatter-string"
   },
   "outputs": [
    {
     "name": "stdout",
     "output_type": "stream",
     "text": [
      "🐕 woof woof\n"
     ]
    }
   ],
   "source": [
    "Dog().bark()"
   ]
  },
  {
   "cell_type": "markdown",
   "id": "21514888-48cd-4f3e-b97b-d39f29a548b3",
   "metadata": {
    "libroFormatter": "formatter-string"
   },
   "source": [
    "Empty cells will cause \"too many blank lines\" warning as each cell is padded with two new lines. If we remove the blank cell, everything will be perfect!"
   ]
  },
  {
   "cell_type": "markdown",
   "id": "6e48e69c-eb8c-4ec4-9e7b-8dfbbba698b9",
   "metadata": {
    "libroFormatter": "formatter-string"
   },
   "source": [
    "#### Diagnostics Panel"
   ]
  },
  {
   "cell_type": "markdown",
   "id": "fbeedea8-fb56-4353-88db-52c1ce5d88a7",
   "metadata": {
    "libroFormatter": "formatter-string"
   },
   "source": [
    "Search for \"Show diagnostics panel\" in the commands palette, or invoke it from the context menu to display all the diagnostics from the file in one place.\n",
    "\n",
    "The diagnostics panel allows you to sort the inspections and go to the respective locations in the code (just click on the row of interest)."
   ]
  },
  {
   "cell_type": "markdown",
   "id": "c98e42c7-569d-4f30-9a76-21f7347e132f",
   "metadata": {
    "libroFormatter": "formatter-string"
   },
   "source": [
    "### Autocompletion"
   ]
  },
  {
   "cell_type": "code",
   "execution_count": null,
   "id": "9d385fb1-d1b7-4956-a38b-fa50c59e097d",
   "metadata": {
    "libroFormatter": "formatter-string"
   },
   "outputs": [],
   "source": [
    "class Cat:\n",
    "\n",
    "    def miaow(self):\n",
    "        print('miaow')"
   ]
  },
  {
   "cell_type": "markdown",
   "id": "73300400-7164-4219-a687-8d140e81d702",
   "metadata": {
    "libroFormatter": "formatter-string"
   },
   "source": [
    "Autocompletion works without the kernel - try completing \"Cat\" below using <kbd>Tab</kbd>, without running the cell above: "
   ]
  },
  {
   "cell_type": "code",
   "execution_count": null,
   "id": "a7dceea3-324b-4f3c-86f0-67fd4583bf3d",
   "metadata": {
    "libroFormatter": "formatter-string"
   },
   "outputs": [],
   "source": [
    "Ca"
   ]
  },
  {
   "cell_type": "markdown",
   "id": "a86a828b-8e8c-44b2-910a-9c013c14c42f",
   "metadata": {
    "libroFormatter": "formatter-string"
   },
   "source": [
    "You can see that all the double-dunder methods of the class are immediately available:"
   ]
  },
  {
   "cell_type": "code",
   "execution_count": null,
   "id": "c20b899d-4b4b-497d-8efa-7e3b7ce7d855",
   "metadata": {
    "libroFormatter": "formatter-string"
   },
   "outputs": [],
   "source": [
    "Cat.__"
   ]
  },
  {
   "cell_type": "markdown",
   "id": "23125aab-ccb3-4d82-99a6-ef5c0529a95f",
   "metadata": {
    "libroFormatter": "formatter-string"
   },
   "source": [
    "It also automatically invokes the completion suggestions after typing a dot (.):"
   ]
  },
  {
   "cell_type": "code",
   "execution_count": null,
   "id": "7ea2ec67-0bbe-4d3a-bc46-54eb5cf07a4a",
   "metadata": {
    "libroFormatter": "formatter-string"
   },
   "outputs": [],
   "source": [
    "Cat"
   ]
  },
  {
   "cell_type": "markdown",
   "id": "25cb24bc-7109-4bff-8560-1f7a77655685",
   "metadata": {
    "libroFormatter": "formatter-string"
   },
   "source": [
    "### Rename"
   ]
  },
  {
   "cell_type": "markdown",
   "id": "57a638b5-4f7e-4855-b61d-8b10719161f5",
   "metadata": {
    "libroFormatter": "formatter-string"
   },
   "source": [
    "You can rename symbols by pressing <kbd>F2</kbd> or selecting rename option from the context menu.\n",
    "\n",
    "If you rename the `test` variable below to `test2`, both occurrences (in the two following cells) will be updated:"
   ]
  },
  {
   "cell_type": "code",
   "execution_count": null,
   "id": "49adcff6-021d-42f0-9b4d-eba505dc5786",
   "metadata": {
    "libroFormatter": "formatter-string"
   },
   "outputs": [],
   "source": [
    "test = 1"
   ]
  },
  {
   "cell_type": "code",
   "execution_count": null,
   "id": "54c5e838-5977-4d55-82d7-e86fbdf8243e",
   "metadata": {
    "libroFormatter": "formatter-string"
   },
   "outputs": [],
   "source": [
    "test"
   ]
  },
  {
   "cell_type": "markdown",
   "id": "6d511b5b-7bdb-44c3-9e16-37420c38f9e5",
   "metadata": {
    "libroFormatter": "formatter-string"
   },
   "source": [
    "However, a local reference from a different scope (inside the `abc()` function) will be unafected:"
   ]
  },
  {
   "cell_type": "code",
   "execution_count": null,
   "id": "6abdabd7-b729-4c5a-9b60-2808feebc60e",
   "metadata": {
    "libroFormatter": "formatter-string"
   },
   "outputs": [],
   "source": [
    "def abc():\n",
    "    test = 2\n",
    "    test"
   ]
  },
  {
   "cell_type": "markdown",
   "id": "209f0950-5bbb-4bc1-b6e4-7a63ddb9d678",
   "metadata": {
    "libroFormatter": "formatter-string"
   },
   "source": [
    "Which is different to the simplistic behaviour of the built-in search-and-replace function."
   ]
  }
 ],
 "metadata": {
  "kernelspec": {
   "display_name": "Python 3",
   "language": "python",
   "name": "python3"
  },
  "language_info": {
   "codemirror_mode": {
    "name": "ipython",
    "version": 3
   },
   "file_extension": ".py",
   "mimetype": "text/x-python",
   "name": "python",
   "nbconvert_exporter": "python",
   "pygments_lexer": "ipython3",
   "version": "3.8.0"
  }
 },
 "nbformat": 4,
 "nbformat_minor": 5
}
