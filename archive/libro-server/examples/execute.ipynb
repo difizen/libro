{
 "cells": [
  {
   "cell_type": "code",
   "execution_count": 2,
   "id": "9381665c-b024-4714-83fb-d7e2a8582979",
   "metadata": {
    "execution": {
     "shell.execute_reply.end": "2024-10-19T17:12:16.275269Z",
     "shell.execute_reply.started": "2024-10-19T17:12:15.915838Z",
     "to_execute": "2024-10-19T17:12:15.945Z"
    },
    "libroFormatter": "formatter-string"
   },
   "outputs": [
    {
     "name": "stdout",
     "output_type": "stream",
     "text": [
      "The libro module is not an IPython extension.\n"
     ]
    }
   ],
   "source": [
    "%load_ext libro"
   ]
  },
  {
   "cell_type": "code",
   "execution_count": 2,
   "id": "1bff4672-0101-4fc1-ad2b-facf0cc7c4ae",
   "metadata": {
    "execution": {
     "shell.execute_reply.end": "2024-10-21T06:59:19.942719Z",
     "shell.execute_reply.started": "2024-10-21T06:59:19.867424Z",
     "to_execute": "2024-10-21T06:59:19.901Z"
    },
    "libroFormatter": "formatter-string"
   },
   "outputs": [
    {
     "data": {
      "text/plain": [
       "None"
      ]
     },
     "metadata": {},
     "output_type": "display_data"
    }
   ],
   "source": [
    "from libro_flow import execute_notebook\n",
    "client = execute_notebook(\"parameterized.ipynb\", args={ \"a\":5, \"b\":\"test\"}, execute_record_path='execution/parameterized.ipynb')\n"
   ]
  },
  {
   "cell_type": "code",
   "execution_count": 7,
   "id": "92346a0e-f8cb-42e6-b09b-36ffd438da80",
   "metadata": {
    "execution": {
     "shell.execute_reply.end": "2024-04-23T07:33:11.512716Z",
     "shell.execute_reply.started": "2024-04-23T07:33:11.507040Z",
     "to_execute": "2024-04-23T07:33:11.583Z"
    },
    "libroFormatter": "formatter-string"
   },
   "outputs": [
    {
     "data": {
      "text/plain": [
       "LibroExecution(id=UUID('235ae79b-81fa-4f83-a602-03ff7785dae0'), current_index=5, cell_count=14, code_cells_executed=3, start_time='2024-04-23T07:33:10.839211+00:00', end_time='', execute_result_path='', execute_record_path='execution/parameterized.ipynb')"
      ]
     },
     "execution_count": 7,
     "metadata": {},
     "output_type": "execute_result"
    }
   ],
   "source": [
    "status = client.get_status()\n",
    "status"
   ]
  },
  {
   "cell_type": "code",
   "execution_count": null,
   "id": "55422024-539a-42cd-a7e6-e649670af1f3",
   "metadata": {
    "execution": {},
    "libroFormatter": "formatter-string"
   },
   "outputs": [],
   "source": []
  }
 ],
 "metadata": {
  "args": {
   "properties": {
    "a": {
     "default": 1,
     "title": "A",
     "type": "integer"
    },
    "b": {
     "default": "test1",
     "title": "B",
     "type": "string"
    }
   },
   "title": "Parameters",
   "type": "object"
  },
  "language_info": {
   "codemirror_mode": {
    "name": "ipython",
    "version": 3
   },
   "file_extension": ".py",
   "mimetype": "text/x-python",
   "name": "python",
   "nbconvert_exporter": "python",
   "pygments_lexer": "ipython3",
   "version": "3.9.13"
  }
 },
 "nbformat": 4,
 "nbformat_minor": 5
}
