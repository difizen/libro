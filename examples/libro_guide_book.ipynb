{
 "cells": [
  {
   "cell_type": "markdown",
   "id": "d13d3515-05d9-4fb0-a9c4-e62445c9c8af",
   "metadata": {
    "libroCellType": "markdown",
    "libroFormatter": "formatter-string"
   },
   "source": [
    "# <center> ✨A Quick Guide to libro✨  \n",
    "## <center> 🎉🧙🔮 Welcome to libro  \n",
    "**<center> libro, more than just a notebook, it’s an inspiration accelerator!**"
   ]
  },
  {
   "cell_type": "markdown",
   "id": "92d339b1-45f9-42f0-ac2f-e95388d6c6b3",
   "metadata": {
    "libroFormatter": "formatter-string"
   },
   "source": [
    "**libro is a customizable notebook solution that supports generative AI capabilities. It offers a commercial-grade notebook experience with deep integration of AI features, allowing for easy integration into your development environment to build top-tier AI and data science solutions. Let us guide you through a fun and engaging way to quickly get started and unlock a whole new work experience with libro!**"
   ]
  },
  {
   "cell_type": "markdown",
   "id": "e3bc282a-b4c0-4554-8657-54078632b7fa",
   "metadata": {
    "libroFormatter": "formatter-string"
   },
   "source": [
    "### Step 1: Unlock the Door to the Notebook 🔑"
   ]
  },
  {
   "cell_type": "markdown",
   "id": "2675de53-c92c-4c76-a11b-e01f29d6e249",
   "metadata": {
    "libroFormatter": "formatter-string"
   },
   "source": [
    "Run `libro generate config` in the terminal to generate the `~/.libro/libro_config.yaml` file. Then, configure the settings for large models and databases in libro, and enable the `libro_sql` and `libro_ai` extensions. Give it a try now!  \n",
    "\n",
    "```yaml\n",
    "llm:\n",
    "  DASHSCOPE_API_KEY: xxxxxxx\n",
    "  OPENAI_API_KEY: xxxxxxxx\n",
    "  default_model: chatgpt\n",
    "\n",
    "db:\n",
    "  - db_type: mysql\n",
    "    username: \"root\"\n",
    "    password: \"12345678\"\n",
    "    host: \"127.0.0.1\"\n",
    "    port: 3306\n",
    "    database: sql_demo.db\n",
    "\n",
    "ipython_extensions:\n",
    "  libro_ai: True\n",
    "  libro_sql: True\n",
    "```"
   ]
  },
  {
   "cell_type": "markdown",
   "id": "43fd242d-69c1-45b8-b606-c07ce5923fbb",
   "metadata": {
    "libroFormatter": "formatter-string"
   },
   "source": [
    "### Step 2: SQL Cell, the Magic Wand of Data 🪄\n",
    "\n",
    "libro supports using SQL Cells to simplify database interactions. It acts like a dialog box that directly connects to your database, without the need for any additional tools—making data analysis a breeze!\n",
    "\n",
    "By combining SQL and Python in libro, you can:\n",
    "\n",
    "- Query your database directly to quickly retrieve data and save the results as a dataframe.\n",
    "- Use Python to further process and visualize the query results.\n",
    "- Leverage the powerful query capabilities of SQL alongside the dynamism of the Notebook to boost development efficiency.\n",
    "\n",
    "Give it a try now!"
   ]
  },
  {
   "cell_type": "code",
   "execution_count": null,
   "id": "d7b92e18-dd4c-4309-824e-54820bf5b171",
   "metadata": {
    "libroCellType": "sql",
    "libroFormatter": "formatter-sql-magic"
   },
   "outputs": [],
   "source": [
    "%%sql \n",
    "{\"result_variable\":\"df_1\",\"db_id\":\"sqlite: sql_demo.db\",\"sql_script\":\"CREATE TABLE products (\\n    id INTEGER PRIMARY KEY AUTOINCREMENT, \\n    name TEXT NOT NULL,                  \\n    description TEXT,                    \\n    price REAL NOT NULL,                 \\n    stock INTEGER DEFAULT 0,           \\n    created_at TIMESTAMP DEFAULT CURRENT_TIMESTAMP, \\n    updated_at TIMESTAMP DEFAULT CURRENT_TIMESTAMP  \\n);\"}"
   ]
  },
  {
   "cell_type": "code",
   "execution_count": null,
   "id": "12b0e2fa-a4a4-4e17-affb-2dd10ad3cabe",
   "metadata": {
    "execution": {},
    "libroCellType": "sql",
    "libroFormatter": "formatter-sql-magic"
   },
   "outputs": [],
   "source": [
    "%%sql \n",
    "{\"result_variable\":\"df_2\",\"db_id\":\"sqlite: sql_demo.db\",\"sql_script\":\"INSERT INTO products (name, description, price, stock) VALUES\\n('Laptop', 'High performance laptop', 1299.99, 15),\\n('Smartphone', 'Latest model smartphone', 899.99, 50),\\n('Headphones', 'Noise-cancelling headphones', 199.99, 30),\\n('Monitor', '4K Ultra HD Monitor', 349.99, 20),\\n('Keyboard', 'Mechanical gaming keyboard', 99.99, 40),\\n('Mouse', 'Wireless ergonomic mouse', 49.99, 60),\\n('Tablet', '10-inch screen tablet', 499.99, 25),\\n('Smartwatch', 'Water-resistant smartwatch', 199.99, 35),\\n('Camera', 'DSLR camera with 4K video', 799.99, 10),\\n('Printer', 'All-in-one wireless printer', 149.99, 18),\\n('Speaker', 'Bluetooth portable speaker', 89.99, 55),\\n('Router', 'Dual-band WiFi router', 59.99, 50),\\n('Desk', 'Adjustable height standing desk', 299.99, 12),\\n('Chair', 'Ergonomic office chair', 199.99, 25),\\n('Hard Drive', '2TB external hard drive', 119.99, 45),\\n('SSD', '1TB SSD for laptops and PCs', 149.99, 50),\\n('Graphics Card', 'High-end gaming graphics card', 699.99, 5),\\n('Power Bank', 'Fast charging power bank', 39.99, 70),\\n('Projector', 'Full HD home projector', 499.99, 8),\\n('Drone', 'Camera drone with GPS', 899.99, 6);\"}"
   ]
  },
  {
   "cell_type": "code",
   "execution_count": null,
   "id": "5551d41a-8c8b-45ae-b9e2-a8c342a5d8e5",
   "metadata": {
    "libroCellType": "sql",
    "libroFormatter": "formatter-sql-magic"
   },
   "outputs": [],
   "source": [
    "%%sql \n",
    "{\"result_variable\":\"df_3\",\"db_id\":\"sqlite: sql_demo.db\",\"sql_script\":\"select * from products\"}"
   ]
  },
  {
   "cell_type": "code",
   "execution_count": null,
   "id": "83edeb90-a116-4ed2-b80e-c0a534e365c0",
   "metadata": {
    "execution": {},
    "libroFormatter": "formatter-string"
   },
   "outputs": [],
   "source": [
    "df_3"
   ]
  },
  {
   "cell_type": "markdown",
   "id": "2d09d97f-8c87-4f80-b865-62239ef4d846",
   "metadata": {
    "libroFormatter": "formatter-string"
   },
   "source": [
    "### Step 3: AI Assistant, the Perfect Partner for Developers 🤖"
   ]
  },
  {
   "cell_type": "markdown",
   "id": "cce8d104-8099-4d16-9dc7-96f6df99259b",
   "metadata": {
    "libroFormatter": "formatter-string"
   },
   "source": [
    "#### Error Fixing\n",
    "\n",
    "When a Cell execution encounters an error, simply click the \"Fix with AI\" button, and the assistant will automatically analyze the error and provide repair suggestions to help you quickly resolve the issue and get back to smooth coding. Try fixing the execution error below now!"
   ]
  },
  {
   "cell_type": "code",
   "execution_count": 2,
   "id": "549fbd17-9e22-4844-8cb5-dcf006e88338",
   "metadata": {
    "execution": {
     "shell.execute_reply.end": "2024-11-26T06:08:42.651560Z",
     "shell.execute_reply.started": "2024-11-26T06:08:42.406610Z",
     "to_execute": "2024-11-26T06:08:42.429Z"
    },
    "libroFormatter": "formatter-string"
   },
   "outputs": [
    {
     "ename": "NameError",
     "evalue": "name 'a' is not defined",
     "output_type": "error",
     "traceback": [
      "\u001b[0;31m---------------------------------------------------------------------------\u001b[0m",
      "\u001b[0;31mNameError\u001b[0m                                 Traceback (most recent call last)",
      "Cell \u001b[0;32mIn[2], line 1\u001b[0m\n\u001b[0;32m----> 1\u001b[0m \u001b[43ma\u001b[49m\n",
      "\u001b[0;31mNameError\u001b[0m: name 'a' is not defined"
     ]
    }
   ],
   "source": [
    "a"
   ]
  },
  {
   "cell_type": "markdown",
   "id": "bd071522-2e45-4d3c-b5fc-beb14147271c",
   "metadata": {
    "libroFormatter": "formatter-string"
   },
   "source": [
    "#### AI Chat\n",
    "\n",
    "You can click the conversation button [ in the top-right toolbar / the right toolbar of the Cell ] to interact directly with the AI, receiving in-depth answers and optimization suggestions related to your current code, enhancing your coding efficiency. Try chatting with libro’s AI now!"
   ]
  },
  {
   "cell_type": "markdown",
   "id": "d248e413-1411-43cc-b23b-2a1b5626948a",
   "metadata": {
    "libroFormatter": "formatter-string"
   },
   "source": [
    "#### Code Explanation\n",
    "\n",
    "You can click the magic button [in the right toolbar of the Cell], and libro will help you understand the functionality and logic of the code in the Cell, making learning to code easier. Try explaining the code below now!"
   ]
  },
  {
   "cell_type": "code",
   "execution_count": null,
   "id": "300242af-2d63-4ea4-bb0c-e785d489fc6b",
   "metadata": {
    "execution": {},
    "libroFormatter": "formatter-string"
   },
   "outputs": [],
   "source": [
    "def quick_sort(arr):\n",
    "    if len(arr) <= 1:  \n",
    "        return arr\n",
    "    \n",
    "    pivot = arr[len(arr) // 2]  \n",
    "    left = [x for x in arr if x < pivot]  \n",
    "    middle = [x for x in arr if x == pivot]  \n",
    "    right = [x for x in arr if x > pivot]  \n",
    "    return quick_sort(left) + middle + quick_sort(right)"
   ]
  },
  {
   "cell_type": "markdown",
   "id": "3d120c83-8655-4251-b97a-7177dba537f5",
   "metadata": {
    "libroFormatter": "formatter-string"
   },
   "source": [
    "#### Code Optimization\n",
    "\n",
    "You can click the magic button [ in the right toolbar of the Cell ], and libro will analyze the code in the Cell and provide optimization suggestions to make your code more efficient and readable, enhancing your overall programming experience. Try optimizing the code below now!"
   ]
  },
  {
   "cell_type": "code",
   "execution_count": null,
   "id": "1413a361-a51b-4ece-b673-a8a12e75dfce",
   "metadata": {
    "execution": {},
    "libroFormatter": "formatter-string"
   },
   "outputs": [],
   "source": [
    "def calculate_sum(numbers):\n",
    "    total = 0\n",
    "    for i in range(len(numbers)):\n",
    "        total += numbers[i]\n",
    "    return total"
   ]
  },
  {
   "cell_type": "markdown",
   "id": "ed705e80-6970-4bc7-8617-a82c70840b9c",
   "metadata": {
    "libroFormatter": "formatter-string"
   },
   "source": [
    "### Step 4: AI Workflow Development Tool 💡\n",
    "\n",
    "The Prompt Cell is a special type of notebook cell. With this cell, users only need to input natural language commands to call large models for inference and receive the desired output. It reduces the need for writing complex code and can be seamlessly integrated into existing workflows. Try the example below now!"
   ]
  },
  {
   "cell_type": "code",
   "execution_count": null,
   "id": "758e3891-bec1-4017-9af6-247634d8ba1c",
   "metadata": {
    "execution": {},
    "libroFormatter": "formatter-string"
   },
   "outputs": [],
   "source": [
    "output_language = \"English\""
   ]
  },
  {
   "cell_type": "code",
   "execution_count": null,
   "id": "310bf74e-295d-4a31-8a36-7109cac02982",
   "metadata": {
    "libroCellType": "prompt",
    "libroFormatter": "formatter-prompt-magic"
   },
   "outputs": [],
   "source": [
    "%%prompt \n",
    "{\"model_name\":\"LLM:gpt4\",\"chat_key\":\"LLM:gpt4\",\"prompt\":\"You are a helpful assistant that translates Chinese to {output_language}.\",\"cell_id\":\"310bf74e-295d-4a31-8a36-7109cac02982\",\"record\":\"chat1\"}"
   ]
  },
  {
   "cell_type": "code",
   "execution_count": null,
   "id": "3281ba0d-ae5d-4510-b7a5-4968b2300e6f",
   "metadata": {
    "libroCellType": "prompt",
    "libroFormatter": "formatter-prompt-magic"
   },
   "outputs": [],
   "source": [
    "%%prompt \n",
    "{\"model_name\":\"LLM:gpt4\",\"chat_key\":\"LLM:gpt4\",\"prompt\":\"今天天气真好\",\"cell_id\":\"3281ba0d-ae5d-4510-b7a5-4968b2300e6f\",\"record\":\"chat1\"}"
   ]
  },
  {
   "cell_type": "markdown",
   "id": "840bbfa2-e89b-4b42-b73a-34ca90ef1736",
   "metadata": {
    "libroFormatter": "formatter-string"
   },
   "source": [
    "### Finally 🎢\n",
    "\n",
    "Looking to the future, libro will continue to leverage its flexibility and ease of integration to explore more use cases for notebook-like products, aiming to become the best notebook experience.\n",
    "\n",
    "At the same time, libro will keep exploring applications that combine with large models, enabling users to have a more intelligent programming experience, making coding with libro as easy as writing documentation.\n",
    "\n",
    "We welcome developers from various fields to join us in building the libro project. Here is the link to the open-source libro project. If you like it, feel free to give us a star 🌟🌟🌟 on GitHub!\n",
    "\n",
    "https://github.com/difizen/libro\n",
    "\n",
    "**libro, more than just a notebook, it’s an inspiration accelerator!**"
   ]
  }
 ],
 "metadata": {},
 "nbformat": 4,
 "nbformat_minor": 5
}
