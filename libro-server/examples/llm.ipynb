{
 "cells": [
  {
   "cell_type": "code",
   "execution_count": 1,
   "id": "e9ab7308-7da1-4620-80ca-8f1c23a18a76",
   "metadata": {
    "execution": {
     "shell.execute_reply.end": "2024-04-16T08:17:19.694214Z",
     "shell.execute_reply.started": "2024-04-16T08:17:19.362097Z",
     "to_execute": "2024-04-16T08:17:19.442Z"
    },
    "libroFormatter": "formatter-string"
   },
   "outputs": [],
   "source": [
    "%load_ext libro_ai"
   ]
  },
  {
   "cell_type": "code",
   "execution_count": 2,
   "id": "0800424d-9c6c-437f-b500-0a31576d2ead",
   "metadata": {
    "execution": {
     "shell.execute_reply.end": "2024-04-16T08:17:19.888964Z",
     "shell.execute_reply.started": "2024-04-16T08:17:19.867468Z",
     "to_execute": "2024-04-16T08:17:19.901Z"
    },
    "libroFormatter": "formatter-string"
   },
   "outputs": [],
   "source": [
    "output_language = 'English'"
   ]
  },
  {
   "cell_type": "code",
   "execution_count": 4,
   "id": "565fcbdd-f0a4-40c7-8663-222a0f30fad6",
   "metadata": {
    "execution": {
     "shell.execute_reply.end": "2024-04-16T08:17:27.135082Z",
     "shell.execute_reply.started": "2024-04-16T08:17:25.064105Z",
     "to_execute": "2024-04-16T08:17:25.061Z"
    },
    "libroCellType": "prompt"
   },
   "outputs": [
    {
     "data": {
      "application/vnd.libro.prompt+json": "Absolutely, I can assist with that. Please provide the Chinese text you want to be translated into English."
     },
     "metadata": {},
     "output_type": "display_data"
    }
   ],
   "source": [
    "%%prompt \n",
    "{\"model_name\":\"LLM:gpt4\",\"chat_key\":\"LLM:gpt4\",\"prompt\":\"You are a helpful assistant that translates Chinese to {output_language}.\",\"cell_id\":\"565fcbdd-f0a4-40c7-8663-222a0f30fad6\",\"record\":\"chat1\"}"
   ]
  },
  {
   "cell_type": "code",
   "execution_count": 5,
   "id": "d86071ba-e90f-4a4d-a775-099e08dae8df",
   "metadata": {
    "execution": {
     "shell.execute_reply.end": "2024-04-16T08:17:30.405063Z",
     "shell.execute_reply.started": "2024-04-16T08:17:29.292647Z",
     "to_execute": "2024-04-16T08:17:29.288Z"
    },
    "libroCellType": "prompt"
   },
   "outputs": [
    {
     "data": {
      "application/vnd.libro.prompt+json": "The weather is nice, let's go for a walk together."
     },
     "metadata": {},
     "output_type": "display_data"
    }
   ],
   "source": [
    "%%prompt \n",
    "{\"model_name\":\"LLM:chatgpt\",\"chat_key\":\"LLM:chatgpt\",\"prompt\":\"天气不错，一起去散步吧\",\"variable_name\":\"res\",\"cell_id\":\"d86071ba-e90f-4a4d-a775-099e08dae8df\",\"record\":\"chat1\"}"
   ]
  },
  {
   "cell_type": "code",
   "execution_count": 6,
   "id": "c33ae5d1-41b7-4e8d-b2b9-a78f24533744",
   "metadata": {
    "execution": {
     "shell.execute_reply.end": "2024-04-16T08:17:35.695315Z",
     "shell.execute_reply.started": "2024-04-16T08:17:35.691054Z",
     "to_execute": "2024-04-16T08:17:35.745Z"
    },
    "libroFormatter": "formatter-string"
   },
   "outputs": [
    {
     "data": {
      "text/plain": [
       "AIMessage(content=\"The weather is nice, let's go for a walk together.\", response_metadata={'token_usage': {'completion_tokens': 13, 'prompt_tokens': 61, 'total_tokens': 74}, 'model_name': 'gpt-3.5-turbo', 'system_fingerprint': 'fp_c2295e73ad', 'finish_reason': 'stop', 'logprobs': None}, id='run-8d261356-50a6-4fb2-b69a-9ca6af1c0534-0')"
      ]
     },
     "execution_count": 6,
     "metadata": {},
     "output_type": "execute_result"
    }
   ],
   "source": [
    "res"
   ]
  },
  {
   "cell_type": "code",
   "execution_count": null,
   "id": "dfcb50e2-d28e-409a-bedb-909be6f1f3af",
   "metadata": {
    "libroCellType": "prompt"
   },
   "outputs": [],
   "source": [
    "%%prompt \n",
    "{\"model_name\":\"LMM:dalle-3\",\"chat_key\":\"LMM:dalle-3\",\"prompt\":\"画一张雪景图\",\"cell_id\":\"dfcb50e2-d28e-409a-bedb-909be6f1f3af\"}"
   ]
  },
  {
   "cell_type": "code",
   "execution_count": null,
   "id": "50f9b1e9-6d6b-4939-9e31-d62d19f8c407",
   "metadata": {
    "execution": {},
    "libroFormatter": "formatter-string"
   },
   "outputs": [],
   "source": [
    "res.content"
   ]
  },
  {
   "cell_type": "code",
   "execution_count": null,
   "id": "37d312d3-5713-40f3-ad61-507153b5c34a",
   "metadata": {
    "execution": {},
    "libroFormatter": "formatter-string"
   },
   "outputs": [],
   "source": [
    "from langchain_openai import ChatOpenAI\n",
    "\n",
    "chat = ChatOpenAI()"
   ]
  },
  {
   "cell_type": "code",
   "execution_count": null,
   "id": "c7c56f6b-f8f1-4f9f-89e1-2118f2a5cf04",
   "metadata": {
    "libroCellType": "prompt"
   },
   "outputs": [],
   "source": [
    "%%prompt \n",
    "{\"model_name\":\"VARIABLE:chat\",\"chat_key\":\"VARIABLE:chat\",\"prompt\":\"hi\\n\",\"cell_id\":\"c7c56f6b-f8f1-4f9f-89e1-2118f2a5cf04\"}"
   ]
  },
  {
   "cell_type": "code",
   "execution_count": null,
   "id": "55004e49-e3a3-4d38-837b-ee281e8587f8",
   "metadata": {
    "execution": {},
    "libroFormatter": "formatter-string"
   },
   "outputs": [],
   "source": [
    "from libro_server import chat_record_provider, chat_object_manager\n",
    "chat_record_provider.get_record('chat1').get_messages()"
   ]
  },
  {
   "cell_type": "code",
   "execution_count": null,
   "id": "d0a23e4d-303f-4841-857f-d8a04942773a",
   "metadata": {
    "execution": {},
    "libroFormatter": "formatter-string"
   },
   "outputs": [],
   "source": [
    "chat_object_manager.get_object_list()"
   ]
  },
  {
   "cell_type": "code",
   "execution_count": null,
   "id": "236dd56b-364f-4030-acaa-1b868c0fe4cf",
   "metadata": {
    "execution": {},
    "libroFormatter": "formatter-string"
   },
   "outputs": [],
   "source": [
    "import random\n",
    "import gradio as gr\n",
    "from langchain.schema import AIMessage, HumanMessage\n",
    "from libro_server import chat_record_provider, chat_object_manager\n",
    "gr.close_all()\n",
    "\n",
    "def predict(message, history):\n",
    "    history_langchain_format = chat_record_provider.get_record('chat1').get_messages()\n",
    "    for human, ai in history:\n",
    "        history_langchain_format.append(HumanMessage(content=human))\n",
    "        history_langchain_format.append(AIMessage(content=ai))\n",
    "    history_langchain_format.append(HumanMessage(content=message))\n",
    "    gpt_response = chat(history_langchain_format)\n",
    "    return gpt_response.content\n",
    "\n",
    "gr.ChatInterface(predict).launch(debug=True)"
   ]
  },
  {
   "cell_type": "code",
   "execution_count": null,
   "id": "f1d8dd45-fe3e-45dd-84bf-b1ce20f0e6a1",
   "metadata": {
    "execution": {},
    "libroFormatter": "formatter-string"
   },
   "outputs": [],
   "source": [
    "!pip install gradio"
   ]
  },
  {
   "cell_type": "code",
   "execution_count": null,
   "id": "76036ad1-3746-4786-a9d4-df35541ea592",
   "metadata": {
    "execution": {},
    "libroFormatter": "formatter-string"
   },
   "outputs": [],
   "source": [
    "class A:\n",
    "    name='A'\n",
    "\n",
    "a = A()\n",
    "\n",
    "class A:\n",
    "    name='B'\n",
    "\n",
    "b = A()\n",
    "[a.name,b.name]"
   ]
  },
  {
   "cell_type": "code",
   "execution_count": null,
   "id": "7bd35e40-427d-4a5f-8776-d2ce4b9976a0",
   "metadata": {
    "execution": {},
    "libroFormatter": "formatter-string"
   },
   "outputs": [],
   "source": []
  }
 ],
 "metadata": {},
 "nbformat": 4,
 "nbformat_minor": 5
}
